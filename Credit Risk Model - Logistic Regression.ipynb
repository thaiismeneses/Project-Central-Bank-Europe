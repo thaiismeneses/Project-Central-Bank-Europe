{
 "cells": [
  {
   "cell_type": "markdown",
   "id": "143ed5ae",
   "metadata": {},
   "source": [
    "## Importing the Packages"
   ]
  },
  {
   "cell_type": "code",
   "execution_count": 1,
   "id": "94ffbb80",
   "metadata": {},
   "outputs": [],
   "source": [
    "import pandas as pd\n",
    "import numpy as np\n",
    "import statsmodels.api as sm\n",
    "import matplotlib.pyplot as plt\n",
    "import seaborn as sns\n",
    "\n",
    "from sklearn.linear_model import LogisticRegression\n",
    "from sklearn.model_selection import train_test_split\n",
    "from sklearn.metrics import accuracy_score, confusion_matrix\n",
    "sns.set()"
   ]
  },
  {
   "cell_type": "markdown",
   "id": "8ee2cb66",
   "metadata": {},
   "source": [
    "## Importing the Data"
   ]
  },
  {
   "cell_type": "code",
   "execution_count": 2,
   "id": "4c42c01c",
   "metadata": {},
   "outputs": [],
   "source": [
    "loan_data = pd.read_csv(\"loan-data-preprocessed.csv\")"
   ]
  },
  {
   "cell_type": "code",
   "execution_count": 3,
   "id": "6423a840",
   "metadata": {},
   "outputs": [
    {
     "data": {
      "text/html": [
       "<div>\n",
       "<style scoped>\n",
       "    .dataframe tbody tr th:only-of-type {\n",
       "        vertical-align: middle;\n",
       "    }\n",
       "\n",
       "    .dataframe tbody tr th {\n",
       "        vertical-align: top;\n",
       "    }\n",
       "\n",
       "    .dataframe thead th {\n",
       "        text-align: right;\n",
       "    }\n",
       "</style>\n",
       "<table border=\"1\" class=\"dataframe\">\n",
       "  <thead>\n",
       "    <tr style=\"text-align: right;\">\n",
       "      <th></th>\n",
       "      <th>id</th>\n",
       "      <th>loan_amnt_USD</th>\n",
       "      <th>loan_amnt_EUR</th>\n",
       "      <th>funded_amnt_USD</th>\n",
       "      <th>funded_amnt_EUR</th>\n",
       "      <th>int_rate</th>\n",
       "      <th>installment_USD</th>\n",
       "      <th>installment_EUR</th>\n",
       "      <th>total_pymnt_USD</th>\n",
       "      <th>total_pymnt_EUR</th>\n",
       "      <th>exchange_rate</th>\n",
       "      <th>issue_data</th>\n",
       "      <th>loan_status</th>\n",
       "      <th>term_months</th>\n",
       "      <th>sub_grade</th>\n",
       "      <th>verification_status</th>\n",
       "      <th>state_address</th>\n",
       "    </tr>\n",
       "  </thead>\n",
       "  <tbody>\n",
       "    <tr>\n",
       "      <th>0</th>\n",
       "      <td>373332.0</td>\n",
       "      <td>9950.0</td>\n",
       "      <td>9038.082814</td>\n",
       "      <td>1000.0</td>\n",
       "      <td>908.350032</td>\n",
       "      <td>0.1825</td>\n",
       "      <td>360.97</td>\n",
       "      <td>327.887111</td>\n",
       "      <td>1072.82</td>\n",
       "      <td>974.496081</td>\n",
       "      <td>1.100897</td>\n",
       "      <td>10.0</td>\n",
       "      <td>1.0</td>\n",
       "      <td>36.0</td>\n",
       "      <td>21.0</td>\n",
       "      <td>0.0</td>\n",
       "      <td>1.0</td>\n",
       "    </tr>\n",
       "    <tr>\n",
       "      <th>1</th>\n",
       "      <td>575239.0</td>\n",
       "      <td>12000.0</td>\n",
       "      <td>10900.200379</td>\n",
       "      <td>12000.0</td>\n",
       "      <td>10900.200379</td>\n",
       "      <td>0.2099</td>\n",
       "      <td>324.58</td>\n",
       "      <td>294.832253</td>\n",
       "      <td>959.75</td>\n",
       "      <td>871.788943</td>\n",
       "      <td>1.100897</td>\n",
       "      <td>10.0</td>\n",
       "      <td>1.0</td>\n",
       "      <td>60.0</td>\n",
       "      <td>25.0</td>\n",
       "      <td>1.0</td>\n",
       "      <td>2.0</td>\n",
       "    </tr>\n",
       "    <tr>\n",
       "      <th>2</th>\n",
       "      <td>707689.0</td>\n",
       "      <td>10000.0</td>\n",
       "      <td>8924.299805</td>\n",
       "      <td>10000.0</td>\n",
       "      <td>8924.299805</td>\n",
       "      <td>0.1366</td>\n",
       "      <td>340.13</td>\n",
       "      <td>303.542209</td>\n",
       "      <td>3726.25</td>\n",
       "      <td>3325.417215</td>\n",
       "      <td>1.120536</td>\n",
       "      <td>2.0</td>\n",
       "      <td>1.0</td>\n",
       "      <td>36.0</td>\n",
       "      <td>13.0</td>\n",
       "      <td>1.0</td>\n",
       "      <td>0.0</td>\n",
       "    </tr>\n",
       "    <tr>\n",
       "      <th>3</th>\n",
       "      <td>709828.0</td>\n",
       "      <td>27200.0</td>\n",
       "      <td>24707.120859</td>\n",
       "      <td>27200.0</td>\n",
       "      <td>24707.120859</td>\n",
       "      <td>0.2899</td>\n",
       "      <td>553.87</td>\n",
       "      <td>503.107832</td>\n",
       "      <td>41913.62</td>\n",
       "      <td>38072.238051</td>\n",
       "      <td>1.100897</td>\n",
       "      <td>10.0</td>\n",
       "      <td>1.0</td>\n",
       "      <td>60.0</td>\n",
       "      <td>6.0</td>\n",
       "      <td>0.0</td>\n",
       "      <td>4.0</td>\n",
       "    </tr>\n",
       "    <tr>\n",
       "      <th>4</th>\n",
       "      <td>849994.0</td>\n",
       "      <td>11400.0</td>\n",
       "      <td>10526.076489</td>\n",
       "      <td>11400.0</td>\n",
       "      <td>10526.076489</td>\n",
       "      <td>0.2899</td>\n",
       "      <td>376.09</td>\n",
       "      <td>347.258957</td>\n",
       "      <td>3753.60</td>\n",
       "      <td>3465.849185</td>\n",
       "      <td>1.083025</td>\n",
       "      <td>3.0</td>\n",
       "      <td>0.0</td>\n",
       "      <td>36.0</td>\n",
       "      <td>10.0</td>\n",
       "      <td>0.0</td>\n",
       "      <td>1.0</td>\n",
       "    </tr>\n",
       "    <tr>\n",
       "      <th>...</th>\n",
       "      <td>...</td>\n",
       "      <td>...</td>\n",
       "      <td>...</td>\n",
       "      <td>...</td>\n",
       "      <td>...</td>\n",
       "      <td>...</td>\n",
       "      <td>...</td>\n",
       "      <td>...</td>\n",
       "      <td>...</td>\n",
       "      <td>...</td>\n",
       "      <td>...</td>\n",
       "      <td>...</td>\n",
       "      <td>...</td>\n",
       "      <td>...</td>\n",
       "      <td>...</td>\n",
       "      <td>...</td>\n",
       "      <td>...</td>\n",
       "    </tr>\n",
       "    <tr>\n",
       "      <th>9995</th>\n",
       "      <td>68603178.0</td>\n",
       "      <td>14000.0</td>\n",
       "      <td>12804.119629</td>\n",
       "      <td>14000.0</td>\n",
       "      <td>12804.119629</td>\n",
       "      <td>0.2899</td>\n",
       "      <td>421.61</td>\n",
       "      <td>385.596063</td>\n",
       "      <td>41913.62</td>\n",
       "      <td>38333.357469</td>\n",
       "      <td>1.093398</td>\n",
       "      <td>12.0</td>\n",
       "      <td>1.0</td>\n",
       "      <td>36.0</td>\n",
       "      <td>1.0</td>\n",
       "      <td>0.0</td>\n",
       "      <td>1.0</td>\n",
       "    </tr>\n",
       "    <tr>\n",
       "      <th>9996</th>\n",
       "      <td>68604253.0</td>\n",
       "      <td>20000.0</td>\n",
       "      <td>18291.599470</td>\n",
       "      <td>20000.0</td>\n",
       "      <td>18291.599470</td>\n",
       "      <td>0.2899</td>\n",
       "      <td>631.26</td>\n",
       "      <td>577.337754</td>\n",
       "      <td>0.00</td>\n",
       "      <td>0.000000</td>\n",
       "      <td>1.093398</td>\n",
       "      <td>12.0</td>\n",
       "      <td>1.0</td>\n",
       "      <td>36.0</td>\n",
       "      <td>6.0</td>\n",
       "      <td>0.0</td>\n",
       "      <td>2.0</td>\n",
       "    </tr>\n",
       "    <tr>\n",
       "      <th>9997</th>\n",
       "      <td>68614880.0</td>\n",
       "      <td>5600.0</td>\n",
       "      <td>5121.647852</td>\n",
       "      <td>5600.0</td>\n",
       "      <td>5121.647852</td>\n",
       "      <td>0.2899</td>\n",
       "      <td>180.18</td>\n",
       "      <td>164.789020</td>\n",
       "      <td>0.00</td>\n",
       "      <td>0.000000</td>\n",
       "      <td>1.093398</td>\n",
       "      <td>12.0</td>\n",
       "      <td>1.0</td>\n",
       "      <td>36.0</td>\n",
       "      <td>8.0</td>\n",
       "      <td>1.0</td>\n",
       "      <td>1.0</td>\n",
       "    </tr>\n",
       "    <tr>\n",
       "      <th>9998</th>\n",
       "      <td>68615915.0</td>\n",
       "      <td>4000.0</td>\n",
       "      <td>3658.319894</td>\n",
       "      <td>4000.0</td>\n",
       "      <td>3658.319894</td>\n",
       "      <td>0.2899</td>\n",
       "      <td>131.87</td>\n",
       "      <td>120.605661</td>\n",
       "      <td>0.00</td>\n",
       "      <td>0.000000</td>\n",
       "      <td>1.093398</td>\n",
       "      <td>12.0</td>\n",
       "      <td>1.0</td>\n",
       "      <td>36.0</td>\n",
       "      <td>10.0</td>\n",
       "      <td>1.0</td>\n",
       "      <td>2.0</td>\n",
       "    </tr>\n",
       "    <tr>\n",
       "      <th>9999</th>\n",
       "      <td>68616519.0</td>\n",
       "      <td>21600.0</td>\n",
       "      <td>19754.927428</td>\n",
       "      <td>21600.0</td>\n",
       "      <td>19754.927428</td>\n",
       "      <td>0.2899</td>\n",
       "      <td>666.85</td>\n",
       "      <td>609.887655</td>\n",
       "      <td>0.00</td>\n",
       "      <td>0.000000</td>\n",
       "      <td>1.093398</td>\n",
       "      <td>12.0</td>\n",
       "      <td>1.0</td>\n",
       "      <td>36.0</td>\n",
       "      <td>3.0</td>\n",
       "      <td>0.0</td>\n",
       "      <td>2.0</td>\n",
       "    </tr>\n",
       "  </tbody>\n",
       "</table>\n",
       "<p>10000 rows × 17 columns</p>\n",
       "</div>"
      ],
      "text/plain": [
       "              id  loan_amnt_USD  loan_amnt_EUR  funded_amnt_USD  \\\n",
       "0       373332.0         9950.0    9038.082814           1000.0   \n",
       "1       575239.0        12000.0   10900.200379          12000.0   \n",
       "2       707689.0        10000.0    8924.299805          10000.0   \n",
       "3       709828.0        27200.0   24707.120859          27200.0   \n",
       "4       849994.0        11400.0   10526.076489          11400.0   \n",
       "...          ...            ...            ...              ...   \n",
       "9995  68603178.0        14000.0   12804.119629          14000.0   \n",
       "9996  68604253.0        20000.0   18291.599470          20000.0   \n",
       "9997  68614880.0         5600.0    5121.647852           5600.0   \n",
       "9998  68615915.0         4000.0    3658.319894           4000.0   \n",
       "9999  68616519.0        21600.0   19754.927428          21600.0   \n",
       "\n",
       "      funded_amnt_EUR  int_rate  installment_USD  installment_EUR  \\\n",
       "0          908.350032    0.1825           360.97       327.887111   \n",
       "1        10900.200379    0.2099           324.58       294.832253   \n",
       "2         8924.299805    0.1366           340.13       303.542209   \n",
       "3        24707.120859    0.2899           553.87       503.107832   \n",
       "4        10526.076489    0.2899           376.09       347.258957   \n",
       "...               ...       ...              ...              ...   \n",
       "9995     12804.119629    0.2899           421.61       385.596063   \n",
       "9996     18291.599470    0.2899           631.26       577.337754   \n",
       "9997      5121.647852    0.2899           180.18       164.789020   \n",
       "9998      3658.319894    0.2899           131.87       120.605661   \n",
       "9999     19754.927428    0.2899           666.85       609.887655   \n",
       "\n",
       "      total_pymnt_USD  total_pymnt_EUR  exchange_rate  issue_data  \\\n",
       "0             1072.82       974.496081       1.100897        10.0   \n",
       "1              959.75       871.788943       1.100897        10.0   \n",
       "2             3726.25      3325.417215       1.120536         2.0   \n",
       "3            41913.62     38072.238051       1.100897        10.0   \n",
       "4             3753.60      3465.849185       1.083025         3.0   \n",
       "...               ...              ...            ...         ...   \n",
       "9995         41913.62     38333.357469       1.093398        12.0   \n",
       "9996             0.00         0.000000       1.093398        12.0   \n",
       "9997             0.00         0.000000       1.093398        12.0   \n",
       "9998             0.00         0.000000       1.093398        12.0   \n",
       "9999             0.00         0.000000       1.093398        12.0   \n",
       "\n",
       "      loan_status  term_months  sub_grade  verification_status  state_address  \n",
       "0             1.0         36.0       21.0                  0.0            1.0  \n",
       "1             1.0         60.0       25.0                  1.0            2.0  \n",
       "2             1.0         36.0       13.0                  1.0            0.0  \n",
       "3             1.0         60.0        6.0                  0.0            4.0  \n",
       "4             0.0         36.0       10.0                  0.0            1.0  \n",
       "...           ...          ...        ...                  ...            ...  \n",
       "9995          1.0         36.0        1.0                  0.0            1.0  \n",
       "9996          1.0         36.0        6.0                  0.0            2.0  \n",
       "9997          1.0         36.0        8.0                  1.0            1.0  \n",
       "9998          1.0         36.0       10.0                  1.0            2.0  \n",
       "9999          1.0         36.0        3.0                  0.0            2.0  \n",
       "\n",
       "[10000 rows x 17 columns]"
      ]
     },
     "execution_count": 3,
     "metadata": {},
     "output_type": "execute_result"
    }
   ],
   "source": [
    "loan_data"
   ]
  },
  {
   "cell_type": "markdown",
   "id": "0fe355bb",
   "metadata": {},
   "source": [
    "loan status \n",
    "0 = '', 'Charged Off', 'Default', 'Late (31-120 days)'\n",
    "1 = 'Current', 'Fully Paid', 'In Grace Period', 'Issued','Late (16-30 days)'"
   ]
  },
  {
   "cell_type": "markdown",
   "id": "91045b88",
   "metadata": {},
   "source": [
    "## Declare the dependent and the independent variables"
   ]
  },
  {
   "cell_type": "code",
   "execution_count": 4,
   "id": "b1b6b944",
   "metadata": {},
   "outputs": [],
   "source": [
    "# Independent features\n",
    "X = loan_data.drop('loan_status', axis=1)\n",
    "\n",
    "#Dependent feature\n",
    "y = loan_data['loan_status']"
   ]
  },
  {
   "cell_type": "code",
   "execution_count": 6,
   "id": "0311a7cb",
   "metadata": {},
   "outputs": [],
   "source": [
    "#Standardization\n",
    "from sklearn.preprocessing import StandardScaler \n",
    "scaler = StandardScaler()\n",
    "X = scaler.fit_transform(X)"
   ]
  },
  {
   "cell_type": "code",
   "execution_count": 8,
   "id": "c5944817",
   "metadata": {},
   "outputs": [],
   "source": [
    "# Split the data into training and testing sets\n",
    "X_train, X_test, y_train, y_test = train_test_split(X, y, test_size=0.2, random_state=42)"
   ]
  },
  {
   "cell_type": "markdown",
   "id": "496f60d8",
   "metadata": {},
   "source": [
    "## Build and train the logistic regression model"
   ]
  },
  {
   "cell_type": "code",
   "execution_count": 9,
   "id": "42015ae8",
   "metadata": {},
   "outputs": [
    {
     "data": {
      "text/plain": [
       "LogisticRegression()"
      ]
     },
     "execution_count": 9,
     "metadata": {},
     "output_type": "execute_result"
    }
   ],
   "source": [
    "# Train the logistic regression model\n",
    "logit = LogisticRegression()\n",
    "logit.fit(X_train, y_train)"
   ]
  },
  {
   "cell_type": "code",
   "execution_count": 11,
   "id": "7b26f2c8",
   "metadata": {},
   "outputs": [],
   "source": [
    "# Predicting the model \n",
    "y_pred = logit.predict(X_test)"
   ]
  },
  {
   "cell_type": "markdown",
   "id": "1e74beac",
   "metadata": {},
   "source": [
    "## Evaluate the models "
   ]
  },
  {
   "cell_type": "code",
   "execution_count": 15,
   "id": "1e86d33a",
   "metadata": {},
   "outputs": [
    {
     "name": "stdout",
     "output_type": "stream",
     "text": [
      "The accuracy of logit model is: 0.9325\n",
      "              precision    recall  f1-score   support\n",
      "\n",
      "         0.0       0.00      0.00      0.00       134\n",
      "         1.0       0.93      1.00      0.97      1866\n",
      "\n",
      "    accuracy                           0.93      2000\n",
      "   macro avg       0.47      0.50      0.48      2000\n",
      "weighted avg       0.87      0.93      0.90      2000\n",
      "\n"
     ]
    }
   ],
   "source": [
    "from sklearn.metrics import classification_report, roc_auc_score, plot_confusion_matrix, plot_precision_recall_curve\n",
    "\n",
    "print(\"The accuracy of logit model is:\", accuracy_score(y_test, y_pred))\n",
    "\n",
    "print(classification_report(y_test, y_pred))\n"
   ]
  },
  {
   "cell_type": "code",
   "execution_count": 16,
   "id": "b57fb61e",
   "metadata": {},
   "outputs": [
    {
     "name": "stdout",
     "output_type": "stream",
     "text": [
      "Confusion Matrix:\n",
      " [[   0  134]\n",
      " [   1 1865]]\n"
     ]
    }
   ],
   "source": [
    "# Calculate and print the confusion matrix\n",
    "confusion_mat = confusion_matrix(y_test, y_pred)\n",
    "print(\"Confusion Matrix:\\n\", confusion_mat)"
   ]
  },
  {
   "cell_type": "markdown",
   "id": "061e4e57",
   "metadata": {},
   "source": [
    "##  Use the model to estimate the probability of default"
   ]
  },
  {
   "cell_type": "code",
   "execution_count": 18,
   "id": "10ab2f35",
   "metadata": {},
   "outputs": [],
   "source": [
    "# Predict default probabilities for the test set\n",
    "y_pred_prob = logit.predict_proba(X_test)[:, 1]"
   ]
  },
  {
   "cell_type": "code",
   "execution_count": 22,
   "id": "1c9e4344",
   "metadata": {},
   "outputs": [
    {
     "name": "stdout",
     "output_type": "stream",
     "text": [
      "              id  default_probability\n",
      "0       373332.0             0.453406\n",
      "1       575239.0             0.215866\n",
      "2       707689.0             0.447863\n",
      "3       709828.0             0.746766\n",
      "4       849994.0             0.497751\n",
      "...          ...                  ...\n",
      "9995  68603178.0             0.995883\n",
      "9996  68604253.0             0.955043\n",
      "9997  68614880.0             0.947227\n",
      "9998  68615915.0             0.937932\n",
      "9999  68616519.0             0.958072\n",
      "\n",
      "[10000 rows x 2 columns]\n"
     ]
    }
   ],
   "source": [
    "# Predict probabilities for all accounts\n",
    "probabilities = logit.predict_proba(X)[:, 1]\n",
    "\n",
    "# Add the probabilities to the DataFrame\n",
    "loan_data['default_probability'] = probabilities\n",
    "\n",
    "# Print the DataFrame with default probabilities\n",
    "print(loan_data[['id', 'default_probability']])"
   ]
  }
 ],
 "metadata": {
  "kernelspec": {
   "display_name": "Python 3 (ipykernel)",
   "language": "python",
   "name": "python3"
  },
  "language_info": {
   "codemirror_mode": {
    "name": "ipython",
    "version": 3
   },
   "file_extension": ".py",
   "mimetype": "text/x-python",
   "name": "python",
   "nbconvert_exporter": "python",
   "pygments_lexer": "ipython3",
   "version": "3.9.13"
  }
 },
 "nbformat": 4,
 "nbformat_minor": 5
}
